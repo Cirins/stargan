{
 "cells": [
  {
   "cell_type": "code",
   "execution_count": 1,
   "metadata": {},
   "outputs": [],
   "source": [
    "import numpy as np\n",
    "import random\n",
    "\n",
    "seed = 2710\n",
    "np.random.seed(seed)\n",
    "random.seed(seed)"
   ]
  },
  {
   "cell_type": "code",
   "execution_count": 2,
   "metadata": {},
   "outputs": [],
   "source": [
    "import numpy as np\n",
    "\n",
    "def custom_train_test_split(x, y, k, n_obs):\n",
    "    # Combine y and k to identify unique combinations\n",
    "    yk_comb = np.array(list(zip(y, k)))\n",
    "    \n",
    "    # Find unique combinations of y and k\n",
    "    unique_combinations = np.unique(yk_comb, axis=0)\n",
    "    \n",
    "    # Initialize lists to hold train and test indices\n",
    "    train_indices = []\n",
    "    test_indices = []\n",
    "    \n",
    "    # Iterate over each unique combination\n",
    "    for comb in unique_combinations:\n",
    "        # Find indices of the current combination\n",
    "        comb_indices = np.where((yk_comb == comb).all(axis=1))[0]\n",
    "        \n",
    "        # Shuffle indices to ensure randomness\n",
    "        np.random.shuffle(comb_indices)\n",
    "        \n",
    "        # Select n_obs indices for the test set\n",
    "        test_indices.extend(comb_indices[:n_obs])\n",
    "        \n",
    "        # Remaining indices go to the train set\n",
    "        train_indices.extend(comb_indices[n_obs:])\n",
    "    \n",
    "    # Convert lists to numpy arrays\n",
    "    train_indices = np.array(train_indices)\n",
    "    test_indices = np.array(test_indices)\n",
    "    \n",
    "    # Split the data into train and test sets\n",
    "    x_train, x_test = x[train_indices], x[test_indices]\n",
    "    y_train, y_test = y[train_indices], y[test_indices]\n",
    "    k_train, k_test = k[train_indices], k[test_indices]\n",
    "    \n",
    "    return x_train, x_test, y_train, y_test, k_train, k_test"
   ]
  },
  {
   "cell_type": "code",
   "execution_count": 3,
   "metadata": {},
   "outputs": [
    {
     "name": "stdout",
     "output_type": "stream",
     "text": [
      "Loaded full dataset mobiact_pamap with shape (12369, 3, 128), from 67 domains and 4 classes\n"
     ]
    }
   ],
   "source": [
    "import pickle\n",
    "\n",
    "dataset = 'mobiact_pamap'\n",
    "\n",
    "if dataset == 'realworld_pamap':\n",
    "    num_df_domains = 15\n",
    "    n_obs = 10\n",
    "elif dataset == 'pamap_realworld':\n",
    "    num_df_domains = 6\n",
    "    n_obs = 50\n",
    "elif dataset == 'mobiact_pamap':\n",
    "    num_df_domains = 61\n",
    "    n_obs = 10\n",
    "elif dataset == 'pamap_mobiact':\n",
    "    num_df_domains = 6\n",
    "    n_obs = 10\n",
    "\n",
    "# Load the dataset\n",
    "with open(f'{dataset}.pkl', 'rb') as f:\n",
    "    x, y, k = pickle.load(f)\n",
    "\n",
    "print(f'Loaded full dataset {dataset} with shape {x.shape}, from {len(set(k))} domains and {len(set(y))} classes')"
   ]
  },
  {
   "cell_type": "code",
   "execution_count": 4,
   "metadata": {},
   "outputs": [
    {
     "name": "stdout",
     "output_type": "stream",
     "text": [
      "Loaded Df data with shape (10816, 3, 128), from 61 domains and 4 classes\n"
     ]
    }
   ],
   "source": [
    "# Filter only df domains\n",
    "mask_df = (k < num_df_domains)\n",
    "x_df = x[mask_df]\n",
    "k_df = k[mask_df]\n",
    "y_df = y[mask_df]\n",
    "\n",
    "print(f'Loaded Df data with shape {x_df.shape}, from {len(set(k_df))} domains and {len(set(y_df))} classes')\n",
    "\n",
    "# Save the data\n",
    "with open(f'splits/{dataset}_df.pkl', 'wb') as f:\n",
    "    pickle.dump((x_df, y_df, k_df), f)"
   ]
  },
  {
   "cell_type": "code",
   "execution_count": 5,
   "metadata": {},
   "outputs": [
    {
     "name": "stdout",
     "output_type": "stream",
     "text": [
      "Loaded Dp data with shape (1553, 3, 128), from 6 domains and 4 classes\n"
     ]
    }
   ],
   "source": [
    "# Filter only dp domains\n",
    "mask_dp = (k >= num_df_domains)\n",
    "x_dp = x[mask_dp]\n",
    "k_dp = k[mask_dp]\n",
    "y_dp = y[mask_dp]\n",
    "\n",
    "print(f'Loaded Dp data with shape {x_dp.shape}, from {len(set(k_dp))} domains and {len(set(y_dp))} classes')\n",
    "\n",
    "# Save the data\n",
    "with open(f'splits/{dataset}_dp.pkl', 'wb') as f:\n",
    "    pickle.dump((x_dp, y_dp, k_dp), f)"
   ]
  },
  {
   "cell_type": "code",
   "execution_count": 6,
   "metadata": {},
   "outputs": [
    {
     "name": "stdout",
     "output_type": "stream",
     "text": [
      "Divided Dp data into map with shape (1313, 3, 128), from 6 domains and 4 classes\n",
      "And into test with shape (240, 3, 128), from 6 domains and 4 classes\n"
     ]
    }
   ],
   "source": [
    "x_dp_map, x_dp_te, y_dp_map, y_dp_te, k_dp_map, k_dp_te = custom_train_test_split(x_dp, y_dp, k_dp, n_obs)\n",
    "\n",
    "print(f'Divided Dp data into map with shape {x_dp_map.shape}, from {len(set(k_dp_map))} domains and {len(set(y_dp_map))} classes')\n",
    "\n",
    "# Save the data\n",
    "with open(f'splits/{dataset}_dp_map.pkl', 'wb') as f:\n",
    "    pickle.dump((x_dp_map, y_dp_map, k_dp_map), f)\n",
    "\n",
    "print(f'And into test with shape {x_dp_te.shape}, from {len(set(k_dp_te))} domains and {len(set(y_dp_te))} classes')\n",
    "\n",
    "# Save the data\n",
    "with open(f'splits/{dataset}_dp_te.pkl', 'wb') as f:\n",
    "    pickle.dump((x_dp_te, y_dp_te, k_dp_te), f)"
   ]
  },
  {
   "cell_type": "code",
   "execution_count": 7,
   "metadata": {},
   "outputs": [
    {
     "name": "stdout",
     "output_type": "stream",
     "text": [
      "Dp map has 1313 train samples and 240 test samples (0.15 test)\n",
      "Class 0, domain 61: 70 train samples, 10 test samples\n",
      "Class 0, domain 62: 112 train samples, 10 test samples\n",
      "Class 0, domain 63: 110 train samples, 10 test samples\n",
      "Class 0, domain 64: 86 train samples, 10 test samples\n",
      "Class 0, domain 65: 116 train samples, 10 test samples\n",
      "Class 0, domain 66: 107 train samples, 10 test samples\n",
      "Class 1, domain 61: 67 train samples, 10 test samples\n",
      "Class 1, domain 62: 23 train samples, 10 test samples\n",
      "Class 1, domain 63: 81 train samples, 10 test samples\n",
      "Class 1, domain 64: 72 train samples, 10 test samples\n",
      "Class 1, domain 65: 1 train samples, 10 test samples\n",
      "Class 1, domain 66: 48 train samples, 10 test samples\n",
      "Class 2, domain 61: 37 train samples, 10 test samples\n",
      "Class 2, domain 62: 41 train samples, 10 test samples\n",
      "Class 2, domain 63: 32 train samples, 10 test samples\n",
      "Class 2, domain 64: 26 train samples, 10 test samples\n",
      "Class 2, domain 65: 26 train samples, 10 test samples\n",
      "Class 2, domain 66: 20 train samples, 10 test samples\n",
      "Class 3, domain 61: 42 train samples, 10 test samples\n",
      "Class 3, domain 62: 49 train samples, 10 test samples\n",
      "Class 3, domain 63: 38 train samples, 10 test samples\n",
      "Class 3, domain 64: 32 train samples, 10 test samples\n",
      "Class 3, domain 65: 50 train samples, 10 test samples\n",
      "Class 3, domain 66: 27 train samples, 10 test samples\n"
     ]
    }
   ],
   "source": [
    "train_samples = len(y_dp_map)\n",
    "test_samples = len(y_dp_te)\n",
    "print(f'Dp map has {train_samples} train samples and {test_samples} test samples ({test_samples / (train_samples + test_samples):.2f} test)')\n",
    "\n",
    "for y_val in np.unique(y_dp):\n",
    "    for k_val in np.unique(k_dp):\n",
    "        print(f'Class {y_val}, domain {k_val}: {np.sum((y_dp_map == y_val) & (k_dp_map == k_val))} train samples, {np.sum((y_dp_te == y_val) & (k_dp_te == k_val))} test samples')"
   ]
  }
 ],
 "metadata": {
  "kernelspec": {
   "display_name": "stargan-v2",
   "language": "python",
   "name": "python3"
  },
  "language_info": {
   "codemirror_mode": {
    "name": "ipython",
    "version": 3
   },
   "file_extension": ".py",
   "mimetype": "text/x-python",
   "name": "python",
   "nbconvert_exporter": "python",
   "pygments_lexer": "ipython3",
   "version": "3.6.13"
  }
 },
 "nbformat": 4,
 "nbformat_minor": 2
}
