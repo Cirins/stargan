{
 "cells": [
  {
   "cell_type": "code",
   "execution_count": 1,
   "metadata": {},
   "outputs": [
    {
     "name": "stdout",
     "output_type": "stream",
     "text": [
      "All required files are present.\n"
     ]
    }
   ],
   "source": [
    "import os\n",
    "\n",
    "# Define datasets, experiment names, and expected filenames\n",
    "datasets = [\"realworld\", \"cwru\"]\n",
    "experiment_names = [\"Df\", \"Syn\", \"Df_Syn\", \"FS_Dpfs\", \"FS_Df_Dpfs\", \"FS_Syn\", \"FS_Df_Syn\", \"FS_Syn_Dpfs\", \"FS_Df_Syn_Dpfs\", \"Dp\"]\n",
    "datasets = [\"realworld\"]\n",
    "experiment_names = [\"Df\", \"Syn\", \"Df_Syn\", \"Dp\"]\n",
    "required_files = [f\"{dataset}_{experiment}.csv\" for dataset in datasets for experiment in experiment_names]\n",
    "\n",
    "# Directory containing the result files\n",
    "results_dir = \"results\"\n",
    "\n",
    "# Check for missing files\n",
    "missing_files = [file for file in required_files if not os.path.isfile(os.path.join(results_dir, file))]\n",
    "\n",
    "# Print results\n",
    "if missing_files:\n",
    "    print(\"The following files are missing:\")\n",
    "    for file in missing_files:\n",
    "        print(file)\n",
    "else:\n",
    "    print(\"All required files are present.\")\n"
   ]
  },
  {
   "cell_type": "code",
   "execution_count": 2,
   "metadata": {},
   "outputs": [
    {
     "name": "stdout",
     "output_type": "stream",
     "text": [
      "        accuracy  accuracy  accuracy  accuracy\n",
      "source                                        \n",
      "WAL       0.9736    0.9591    0.9715    0.9882\n"
     ]
    }
   ],
   "source": [
    "import os\n",
    "import pandas as pd\n",
    "\n",
    "def create_summary_csv(dataset, results_dir=\"results\"):\n",
    "    # Define the experiment names\n",
    "    experiment_names = [\"Df\", \"Syn\", \"Df_Syn\", \"FS_Dpfs\", \"FS_Df_Dpfs\", \"FS_Syn\", \"FS_Df_Syn\", \"FS_Syn_Dpfs\", \"FS_Df_Syn_Dpfs\", \"Dp\"]\n",
    "    experiment_names = [\"Df\", \"Syn\", \"Df_Syn\", \"Dp\"]\n",
    "    \n",
    "    # Dictionary to store data for each source across experiments and modes\n",
    "    data = {}\n",
    "    \n",
    "    for experiment in experiment_names:\n",
    "        file_path = os.path.join(results_dir, f\"{dataset}_{experiment}.csv\")\n",
    "        if os.path.isfile(file_path):\n",
    "            # Read the file and extract source, mode, and accuracy columns\n",
    "            df = pd.read_csv(file_path)\n",
    "            # Group by 'source', then compute the average accuracy for each combination\n",
    "            avg_accuracy = df.groupby(['source'])['accuracy'].mean()\n",
    "            # Store results in dictionary\n",
    "            data[experiment] = round(avg_accuracy, 4)\n",
    "        else:\n",
    "            print(f\"Warning: {file_path} does not exist and will be skipped.\")\n",
    "    \n",
    "    # Combine all data into a single DataFrame\n",
    "    summary_df = pd.concat(data.values(), axis=1)\n",
    "    \n",
    "    # # Save the result to a new CSV file\n",
    "    # output_file = os.path.join(results_dir, f\"{dataset}_results.csv\")\n",
    "    # summary_df.to_csv(output_file)\n",
    "    # print(f\"Summary CSV file saved as: {output_file}\")\n",
    "\n",
    "    print(summary_df)\n",
    "\n",
    "# Usage example\n",
    "create_summary_csv(\"realworld\")\n"
   ]
  }
 ],
 "metadata": {
  "kernelspec": {
   "display_name": "stargan-v2",
   "language": "python",
   "name": "python3"
  },
  "language_info": {
   "codemirror_mode": {
    "name": "ipython",
    "version": 3
   },
   "file_extension": ".py",
   "mimetype": "text/x-python",
   "name": "python",
   "nbconvert_exporter": "python",
   "pygments_lexer": "ipython3",
   "version": "3.6.13"
  }
 },
 "nbformat": 4,
 "nbformat_minor": 2
}
