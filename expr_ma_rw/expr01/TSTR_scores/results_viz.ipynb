{
 "cells": [
  {
   "cell_type": "code",
   "execution_count": 9,
   "metadata": {},
   "outputs": [
    {
     "name": "stdout",
     "output_type": "stream",
     "text": [
      "The following files are missing:\n",
      "mobiact_realworld_Df_rot.csv\n"
     ]
    }
   ],
   "source": [
    "import os\n",
    "\n",
    "# Define datasets, experiment names, and expected filenames\n",
    "datasets = [\"mobiact_realworld\"]\n",
    "experiment_names = [\"Df\", \"Syn\", \"Df_Syn\", \"FS_Dpfs\", \"FS_Df_Dpfs\", \"FS_Syn\", \"FS_Df_Syn\", \"FS_Syn_Dpfs\", \"FS_Df_Syn_Dpfs\", \"FS_Df_plus_Dpfs\", \"FS_Df_plus_Syn\", \"Dp\"]\n",
    "experiment_names = [\"Df\", \"Df_aug\", \"Df_rot\", \"Syn\", \"Syn_aug\", \"Df_Syn\", \"Df_plus_Syn\", \"Dp\"]\n",
    "required_files = [f\"{dataset}_{experiment}.csv\" for dataset in datasets for experiment in experiment_names]\n",
    "\n",
    "# Directory containing the result files\n",
    "results_dir = \"results\"\n",
    "\n",
    "# Check for missing files\n",
    "missing_files = [file for file in required_files if not os.path.isfile(os.path.join(results_dir, file))]\n",
    "\n",
    "# Print results\n",
    "if missing_files:\n",
    "    print(\"The following files are missing:\")\n",
    "    for file in missing_files:\n",
    "        print(file)\n",
    "else:\n",
    "    print(\"All required files are present.\")\n"
   ]
  },
  {
   "cell_type": "code",
   "execution_count": 10,
   "metadata": {},
   "outputs": [
    {
     "name": "stdout",
     "output_type": "stream",
     "text": [
      "Warning: results\\mobiact_realworld_Df_rot.csv does not exist and will be skipped.\n",
      "            Df  Df_aug     Syn  Syn_aug  Df_Syn  Df_plus_Syn     Dp\n",
      "source                                                             \n",
      "WAL     0.7651  0.8183  0.8245    0.453  0.7938       0.7618  0.989\n",
      "\n",
      "            Df  Df_aug     Syn  Syn_aug  Df_Syn  Df_plus_Syn      Dp\n",
      "source                                                              \n",
      "WAL     0.8568  0.6462  0.7467   5.7452  0.8564       0.9333  0.0301\n",
      "\n",
      "            Df  Df_aug     Syn  Syn_aug  Df_Syn  Df_plus_Syn     Dp\n",
      "source                                                             \n",
      "WAL     0.7376  0.8048  0.8129   0.3184  0.7823       0.7363  0.989\n"
     ]
    }
   ],
   "source": [
    "import os\n",
    "import pandas as pd\n",
    "\n",
    "def create_summary_csv(dataset, results_dir=\"results\"):\n",
    "    \n",
    "    # Dictionary to store data for each source across experiments and modes\n",
    "    data_acc = {}\n",
    "    data_loss = {}\n",
    "    data_f1 = {}\n",
    "    \n",
    "    for experiment in experiment_names:\n",
    "        file_path = os.path.join(results_dir, f\"{dataset}_{experiment}.csv\")\n",
    "        if os.path.isfile(file_path):\n",
    "            # Read the file and extract source, mode, and accuracy columns\n",
    "            df = pd.read_csv(file_path)\n",
    "            # Group by 'source', then compute the average accuracy for each combination\n",
    "            avg_accuracy = df.groupby(['source'])['accuracy'].mean()\n",
    "            avg_loss = df.groupby(['source'])['loss'].mean()\n",
    "            avg_f1 = df.groupby(['source'])['f1'].mean()\n",
    "            # Store results in dictionary\n",
    "            data_acc[experiment] = round(avg_accuracy, 4)\n",
    "            data_loss[experiment] = round(avg_loss, 4)\n",
    "            data_f1[experiment] = round(avg_f1, 4)\n",
    "        else:\n",
    "            print(f\"Warning: {file_path} does not exist and will be skipped.\")\n",
    "    \n",
    "    # Combine all data into a single DataFrame\n",
    "    summary_acc = pd.concat(data_acc.values(), axis=1, keys=data_acc.keys())\n",
    "    summary_loss = pd.concat(data_loss.values(), axis=1, keys=data_loss.keys())\n",
    "    summary_f1 = pd.concat(data_f1.values(), axis=1, keys=data_f1.keys())\n",
    "    \n",
    "    # # Save the result to a new CSV file\n",
    "    # output_file = os.path.join(results_dir, f\"{dataset}_results.csv\")\n",
    "    # summary_df.to_csv(output_file)\n",
    "    # print(f\"Summary CSV file saved as: {output_file}\")\n",
    "\n",
    "    print(summary_acc)\n",
    "    print()\n",
    "    print(summary_loss)\n",
    "    print()\n",
    "    print(summary_f1)\n",
    "\n",
    "# Usage example\n",
    "create_summary_csv(\"mobiact_realworld\", results_dir)\n"
   ]
  },
  {
   "cell_type": "code",
   "execution_count": 11,
   "metadata": {},
   "outputs": [
    {
     "data": {
      "image/png": "[encoded data removed]",
      "text/plain": [
       "<Figure size 720x432 with 1 Axes>"
      ]
     },
     "metadata": {
      "needs_background": "light"
     },
     "output_type": "display_data"
    },
    {
     "name": "stdout",
     "output_type": "stream",
     "text": [
      "Worst n domains with their accuracies:\n",
      "domain\n",
      "70    0.610902\n",
      "63    0.700000\n",
      "73    0.760832\n",
      "68    0.761755\n",
      "75    0.791738\n",
      "62    0.806452\n",
      "69    0.821678\n",
      "74    0.849530\n",
      "71    0.861111\n",
      "65    0.877133\n",
      "Name: accuracy, dtype: float64\n"
     ]
    }
   ],
   "source": [
    "import pandas as pd\n",
    "import matplotlib.pyplot as plt\n",
    "\n",
    "# Read the CSV file\n",
    "file_path = 'results/mobiact_realworld_Syn.csv'\n",
    "data = pd.read_csv(file_path)\n",
    "\n",
    "# Group by 'domain' and calculate mean accuracy\n",
    "domain_accuracies = data.groupby('domain')['accuracy'].mean()\n",
    "\n",
    "# Plot the accuracies\n",
    "plt.figure(figsize=(10, 6))\n",
    "domain_accuracies.plot(kind='bar')\n",
    "plt.xlabel('Domain')\n",
    "plt.ylabel('Mean Accuracy')\n",
    "plt.title('Mean Accuracy by Domain')\n",
    "plt.show()\n",
    "\n",
    "# Get the worst n domains with their accuracies\n",
    "worst_n_domains = domain_accuracies.nsmallest(10)\n",
    "print(\"Worst n domains with their accuracies:\")\n",
    "print(worst_n_domains)"
   ]
  },
  {
   "cell_type": "code",
   "execution_count": 12,
   "metadata": {},
   "outputs": [
    {
     "data": {
      "image/png": "[encoded data removed]",
      "text/plain": [
       "<Figure size 720x432 with 1 Axes>"
      ]
     },
     "metadata": {
      "needs_background": "light"
     },
     "output_type": "display_data"
    },
    {
     "name": "stdout",
     "output_type": "stream",
     "text": [
      "Worst n domains with their accuracies:\n",
      "domain\n",
      "61    0.618138\n",
      "71    0.673039\n",
      "63    0.691639\n",
      "64    0.725292\n",
      "65    0.737201\n",
      "73    0.748527\n",
      "67    0.754155\n",
      "66    0.766607\n",
      "72    0.768503\n",
      "75    0.776076\n",
      "Name: accuracy, dtype: float64\n"
     ]
    }
   ],
   "source": [
    "import pandas as pd\n",
    "import matplotlib.pyplot as plt\n",
    "\n",
    "# Read the CSV file\n",
    "file_path = 'results/mobiact_realworld_Df.csv'\n",
    "data = pd.read_csv(file_path)\n",
    "\n",
    "# Group by 'domain' and calculate mean accuracy\n",
    "domain_accuracies = data.groupby('domain')['accuracy'].mean()\n",
    "\n",
    "# Plot the accuracies\n",
    "plt.figure(figsize=(10, 6))\n",
    "domain_accuracies.plot(kind='bar')\n",
    "plt.xlabel('Domain')\n",
    "plt.ylabel('Mean Accuracy')\n",
    "plt.title('Mean Accuracy by Domain')\n",
    "plt.show()\n",
    "\n",
    "# Get the worst n domains with their accuracies\n",
    "worst_n_domains = domain_accuracies.nsmallest(10)\n",
    "print(\"Worst n domains with their accuracies:\")\n",
    "print(worst_n_domains)"
   ]
  },
  {
   "cell_type": "code",
   "execution_count": 13,
   "metadata": {},
   "outputs": [
    {
     "data": {
      "image/png": "[encoded data removed]",
      "text/plain": [
       "<Figure size 720x432 with 1 Axes>"
      ]
     },
     "metadata": {
      "needs_background": "light"
     },
     "output_type": "display_data"
    },
    {
     "name": "stdout",
     "output_type": "stream",
     "text": [
      "Worst n domains with their accuracies:\n",
      "domain\n",
      "70    0.682707\n",
      "64    0.725292\n",
      "62    0.735663\n",
      "66    0.789698\n",
      "75    0.794492\n",
      "65    0.810922\n",
      "69    0.811888\n",
      "74    0.821317\n",
      "61    0.827448\n",
      "67    0.848997\n",
      "Name: accuracy, dtype: float64\n"
     ]
    }
   ],
   "source": [
    "import pandas as pd\n",
    "import matplotlib.pyplot as plt\n",
    "\n",
    "# Read the CSV file\n",
    "file_path = 'results/mobiact_realworld_Df_aug.csv'\n",
    "data = pd.read_csv(file_path)\n",
    "\n",
    "# Group by 'domain' and calculate mean accuracy\n",
    "domain_accuracies = data.groupby('domain')['accuracy'].mean()\n",
    "\n",
    "# Plot the accuracies\n",
    "plt.figure(figsize=(10, 6))\n",
    "domain_accuracies.plot(kind='bar')\n",
    "plt.xlabel('Domain')\n",
    "plt.ylabel('Mean Accuracy')\n",
    "plt.title('Mean Accuracy by Domain')\n",
    "plt.show()\n",
    "\n",
    "# Get the worst n domains with their accuracies\n",
    "worst_n_domains = domain_accuracies.nsmallest(10)\n",
    "print(\"Worst n domains with their accuracies:\")\n",
    "print(worst_n_domains)"
   ]
  }
 ],
 "metadata": {
  "kernelspec": {
   "display_name": "stargan-v2",
   "language": "python",
   "name": "python3"
  },
  "language_info": {
   "codemirror_mode": {
    "name": "ipython",
    "version": 3
   },
   "file_extension": ".py",
   "mimetype": "text/x-python",
   "name": "python",
   "nbconvert_exporter": "python",
   "pygments_lexer": "ipython3",
   "version": "3.6.13"
  }
 },
 "nbformat": 4,
 "nbformat_minor": 2
}
