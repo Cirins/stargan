{
 "cells": [
  {
   "cell_type": "code",
   "execution_count": 3,
   "metadata": {},
   "outputs": [
    {
     "name": "stdout",
     "output_type": "stream",
     "text": [
      "(11783, 3, 128) (11783,) (11783,)\n",
      "(10816, 3, 128) (10816,) (10816,)\n",
      "[ 0  1  2  3  4  5  6  7  8  9 10 11 12 13 14] [ 0  1  2  3  4  5  6  7  8  9 10 11 12 13 14 15 16 17 18 19 20 21 22 23\n",
      " 24 25 26 27 28 29 30 31 32 33 34 35 36 37 38 39 40 41 42 43 44 45 46 47\n",
      " 48 49 50 51 52 53 54 55 56 57 58 59 60]\n"
     ]
    }
   ],
   "source": [
    "import numpy as np\n",
    "import pickle\n",
    "\n",
    "with open('realworld.pkl', 'rb') as f:\n",
    "    x_rw, y_rw, k_rw = pickle.load(f)\n",
    "\n",
    "with open('mobiact.pkl', 'rb') as f:\n",
    "    x_ma, y_ma, k_ma = pickle.load(f)\n",
    "\n",
    "\n",
    "with open('realworld_fs.pkl', 'rb') as f:\n",
    "    fs_rw = pickle.load(f)\n",
    "\n",
    "with open('mobiact_fs.pkl', 'rb') as f:\n",
    "    fs_ma = pickle.load(f)\n",
    "\n",
    "\n",
    "assert x_rw.shape[1:] == x_ma.shape[1:]\n",
    "assert np.array_equal(np.unique(y_rw), np.unique(y_ma))\n",
    "\n",
    "print(x_rw.shape, y_rw.shape, k_rw.shape)\n",
    "print(x_ma.shape, y_ma.shape, k_ma.shape)\n",
    "print(np.unique(k_rw), np.unique(k_ma))"
   ]
  },
  {
   "cell_type": "code",
   "execution_count": 5,
   "metadata": {},
   "outputs": [
    {
     "name": "stdout",
     "output_type": "stream",
     "text": [
      "(22599, 3, 128) (22599,) (22599,)\n",
      "(22599,)\n"
     ]
    }
   ],
   "source": [
    "k_ma += np.max(k_rw) + 1\n",
    "\n",
    "x = np.concatenate([x_rw, x_ma], axis=0)\n",
    "y = np.concatenate([y_rw, y_ma], axis=0)\n",
    "k = np.concatenate([k_rw, k_ma], axis=0)\n",
    "\n",
    "print(x.shape, y.shape, k.shape)\n",
    "\n",
    "fs = np.concatenate([fs_rw, fs_ma], axis=0)\n",
    "\n",
    "print(fs.shape)"
   ]
  },
  {
   "cell_type": "code",
   "execution_count": 4,
   "metadata": {},
   "outputs": [],
   "source": [
    "with open('realworld_mobiact.pkl', 'wb') as f:\n",
    "    pickle.dump((x, y, k), f)\n",
    "\n",
    "with open('realworld_mobiact_fs.pkl', 'wb') as f:\n",
    "    pickle.dump(fs, f)"
   ]
  },
  {
   "cell_type": "code",
   "execution_count": 6,
   "metadata": {},
   "outputs": [
    {
     "name": "stdout",
     "output_type": "stream",
     "text": [
      "(11783, 3, 128) (11783,) (11783,)\n",
      "(10816, 3, 128) (10816,) (10816,)\n",
      "[ 0  1  2  3  4  5  6  7  8  9 10 11 12 13 14] [ 0  1  2  3  4  5  6  7  8  9 10 11 12 13 14 15 16 17 18 19 20 21 22 23\n",
      " 24 25 26 27 28 29 30 31 32 33 34 35 36 37 38 39 40 41 42 43 44 45 46 47\n",
      " 48 49 50 51 52 53 54 55 56 57 58 59 60]\n"
     ]
    }
   ],
   "source": [
    "import numpy as np\n",
    "import pickle\n",
    "\n",
    "with open('realworld.pkl', 'rb') as f:\n",
    "    x_rw, y_rw, k_rw = pickle.load(f)\n",
    "\n",
    "with open('mobiact.pkl', 'rb') as f:\n",
    "    x_ma, y_ma, k_ma = pickle.load(f)\n",
    "\n",
    "\n",
    "with open('realworld_fs.pkl', 'rb') as f:\n",
    "    fs_rw = pickle.load(f)\n",
    "\n",
    "with open('mobiact_fs.pkl', 'rb') as f:\n",
    "    fs_ma = pickle.load(f)\n",
    "\n",
    "\n",
    "assert x_rw.shape[1:] == x_ma.shape[1:]\n",
    "assert np.array_equal(np.unique(y_rw), np.unique(y_ma))\n",
    "\n",
    "print(x_rw.shape, y_rw.shape, k_rw.shape)\n",
    "print(x_ma.shape, y_ma.shape, k_ma.shape)\n",
    "print(np.unique(k_rw), np.unique(k_ma))"
   ]
  },
  {
   "cell_type": "code",
   "execution_count": 7,
   "metadata": {},
   "outputs": [
    {
     "name": "stdout",
     "output_type": "stream",
     "text": [
      "(22599, 3, 128) (22599,) (22599,)\n",
      "(22599,)\n"
     ]
    }
   ],
   "source": [
    "k_rw += np.max(k_ma) + 1\n",
    "\n",
    "x = np.concatenate([x_ma, x_rw], axis=0)\n",
    "y = np.concatenate([y_ma, y_rw], axis=0)\n",
    "k = np.concatenate([k_ma, k_rw], axis=0)\n",
    "\n",
    "print(x.shape, y.shape, k.shape)\n",
    "\n",
    "fs = np.concatenate([fs_ma, fs_rw], axis=0)\n",
    "\n",
    "print(fs.shape)"
   ]
  },
  {
   "cell_type": "code",
   "execution_count": 8,
   "metadata": {},
   "outputs": [],
   "source": [
    "with open('mobiact_realworld.pkl', 'wb') as f:\n",
    "    pickle.dump((x, y, k), f)\n",
    "\n",
    "with open('mobiact_realworld_fs.pkl', 'wb') as f:\n",
    "    pickle.dump(fs, f)"
   ]
  }
 ],
 "metadata": {
  "kernelspec": {
   "display_name": "stargan-v2",
   "language": "python",
   "name": "python3"
  },
  "language_info": {
   "codemirror_mode": {
    "name": "ipython",
    "version": 3
   },
   "file_extension": ".py",
   "mimetype": "text/x-python",
   "name": "python",
   "nbconvert_exporter": "python",
   "pygments_lexer": "ipython3",
   "version": "3.6.13"
  }
 },
 "nbformat": 4,
 "nbformat_minor": 2
}
