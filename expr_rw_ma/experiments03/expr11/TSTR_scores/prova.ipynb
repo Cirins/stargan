{
 "cells": [
  {
   "cell_type": "code",
   "execution_count": 1,
   "metadata": {},
   "outputs": [],
   "source": [
    "import pickle\n",
    "import numpy as np\n",
    "from sklearn.model_selection import train_test_split, StratifiedKFold\n",
    "from sklearn.metrics import accuracy_score, f1_score, confusion_matrix\n",
    "import torch\n",
    "import torch.nn as nn\n",
    "from torch.utils.data import DataLoader, TensorDataset\n",
    "from torch.optim.lr_scheduler import LambdaLR\n",
    "import torch.optim as optim\n",
    "import os\n",
    "import csv\n",
    "import random\n",
    "import copy\n",
    "import seaborn as sns\n",
    "import matplotlib.pyplot as plt\n",
    "\n",
    "seed = 2710\n",
    "torch.manual_seed(seed)\n",
    "torch.cuda.manual_seed(seed)\n",
    "np.random.seed(seed)\n",
    "random.seed(seed)\n",
    "\n",
    "device = torch.device(\"cuda\" if torch.cuda.is_available() else \"cpu\")"
   ]
  },
  {
   "cell_type": "code",
   "execution_count": 2,
   "metadata": {},
   "outputs": [
    {
     "name": "stdout",
     "output_type": "stream",
     "text": [
      "(22599, 3, 128) (22599,) (22599,) (22599,)\n"
     ]
    }
   ],
   "source": [
    "with open('data/realworld_mobiact.pkl', 'rb') as f:\n",
    "    x, y, k = pickle.load(f)\n",
    "with open('data/realworld_mobiact_fs.pkl', 'rb') as f:\n",
    "    fs = pickle.load(f)\n",
    "\n",
    "print(x.shape, y.shape, k.shape, fs.shape)"
   ]
  },
  {
   "cell_type": "code",
   "execution_count": 3,
   "metadata": {},
   "outputs": [
    {
     "name": "stdout",
     "output_type": "stream",
     "text": [
      "(11783, 3, 128) (11783,) (11783,) (11783,)\n",
      "(9596, 3, 128) (9596,) (9596,) (9596,)\n"
     ]
    }
   ],
   "source": [
    "mask_rw = (k < 15)\n",
    "mask_ma = (k >= 15) & (fs == 0)\n",
    "\n",
    "x_rw, y_rw, k_rw, fs_rw = x[mask_rw], y[mask_rw], k[mask_rw], fs[mask_rw]\n",
    "x_ma, y_ma, k_ma, fs_ma = x[mask_ma], y[mask_ma], k[mask_ma], fs[mask_ma]\n",
    "\n",
    "print(x_rw.shape, y_rw.shape, k_rw.shape, fs_rw.shape)\n",
    "print(x_ma.shape, y_ma.shape, k_ma.shape, fs_ma.shape)"
   ]
  },
  {
   "cell_type": "code",
   "execution_count": 4,
   "metadata": {},
   "outputs": [
    {
     "name": "stdout",
     "output_type": "stream",
     "text": [
      "(9426, 3, 128) (9426,) (2357, 3, 128) (2357,)\n"
     ]
    }
   ],
   "source": [
    "x_rw, x_ma, y_rw, y_ma = train_test_split(x_rw, y_rw, test_size=0.2, random_state=seed, stratify=y_rw, shuffle=True)\n",
    "\n",
    "print(x_rw.shape, y_rw.shape, x_ma.shape, y_ma.shape)"
   ]
  },
  {
   "cell_type": "code",
   "execution_count": 5,
   "metadata": {},
   "outputs": [
    {
     "name": "stdout",
     "output_type": "stream",
     "text": [
      "RW: {0: 2880, 1: 2586, 2: 1822, 3: 2138}\n",
      "MA: {0: 720, 1: 647, 2: 455, 3: 535}\n"
     ]
    }
   ],
   "source": [
    "unique_rw, counts_rw = np.unique(y_rw, return_counts=True)\n",
    "print(\"RW:\", dict(zip(unique_rw, counts_rw)))\n",
    "\n",
    "unique_ma, counts_ma = np.unique(y_ma, return_counts=True)\n",
    "print(\"MA:\", dict(zip(unique_ma, counts_ma)))"
   ]
  },
  {
   "cell_type": "code",
   "execution_count": null,
   "metadata": {},
   "outputs": [],
   "source": [
    "x_train = torch.tensor(x_rw, dtype=torch.float32, device=device)\n",
    "y_train = torch.tensor(y_rw, dtype=torch.long, device=device)\n",
    "\n",
    "train_data = TensorDataset(x_train, y_train)\n",
    "train_loader = DataLoader(train_data, batch_size=64, shuffle=True)\n",
    "\n",
    "x_test = torch.tensor(x_ma, dtype=torch.float32, device=device)\n",
    "y_test = torch.tensor(y_ma, dtype=torch.long, device=device)"
   ]
  },
  {
   "cell_type": "code",
   "execution_count": null,
   "metadata": {},
   "outputs": [],
   "source": [
    "class TSTRClassifier(nn.Module):\n",
    "    def __init__(self, num_timesteps=128, num_channels=3, num_classes=4):\n",
    "        super(TSTRClassifier, self).__init__()\n",
    "\n",
    "        self.conv1 = nn.Conv1d(num_channels, 16, kernel_size=5, stride=1, padding=2)\n",
    "        self.bn1 = nn.BatchNorm1d(16)\n",
    "        self.conv2 = nn.Conv1d(16, 32, kernel_size=5, stride=1, padding=2)\n",
    "        self.bn2 = nn.BatchNorm1d(32)\n",
    "        self.conv3 = nn.Conv1d(32, 64, kernel_size=5, stride=1, padding=2)\n",
    "        self.bn3 = nn.BatchNorm1d(64)\n",
    "        self.conv4 = nn.Conv1d(64, 128, kernel_size=5, stride=1, padding=2)\n",
    "        self.bn4 = nn.BatchNorm1d(128)\n",
    "        self.pool = nn.MaxPool1d(kernel_size=2, stride=2)\n",
    "        self.relu = nn.ReLU()\n",
    "        self.dropout = nn.Dropout(p=0.25)\n",
    "\n",
    "        self.fc_shared = nn.Linear(num_timesteps * 8, 100)\n",
    "\n",
    "        self.fc_class = nn.Linear(100, num_classes)\n",
    "\n",
    "    def forward(self, x):\n",
    "        x = self.pool(self.relu(self.bn1(self.conv1(x))))\n",
    "        x = self.pool(self.relu(self.bn2(self.conv2(x))))\n",
    "        x = self.pool(self.relu(self.bn3(self.conv3(x))))\n",
    "        x = self.pool(self.relu(self.bn4(self.conv4(x))))\n",
    "        x = x.view(x.size(0), -1)  # Flatten\n",
    "        x = self.dropout(x)\n",
    "        x = self.relu(self.fc_shared(x))\n",
    "\n",
    "        # Final output for class prediction\n",
    "        class_outputs = self.fc_class(x)\n",
    "        return class_outputs\n",
    "\n",
    "\n",
    "def test(model, x_test, y_test):\n",
    "    device = torch.device('cuda' if torch.cuda.is_available() else 'cpu')\n",
    "    model.to(device)\n",
    "    model.eval()\n",
    "    with torch.no_grad():\n",
    "        x_test, y_test = x_test.to(device), y_test.to(device)\n",
    "        outputs = model(x_test)\n",
    "        _, predicted = torch.max(outputs, 1)\n",
    "        acc = accuracy_score(y_test.cpu().numpy(), predicted.cpu().numpy())\n",
    "        f1 = f1_score(y_test.cpu().numpy(), predicted.cpu().numpy(), average='weighted')\n",
    "        print(f'Test Accuracy: {acc:.4f}, F1: {f1:.4f}')\n",
    "        \n",
    "        # Compute confusion matrix\n",
    "        cm = confusion_matrix(y_test.cpu().numpy(), predicted.cpu().numpy())\n",
    "        print('Confusion Matrix:')\n",
    "        print(cm)\n",
    "        \n",
    "        # Plot confusion matrix\n",
    "        plt.figure(figsize=(10, 7))\n",
    "        sns.heatmap(cm, annot=True, fmt='d', cmap='Blues')\n",
    "        plt.xlabel('Predicted')\n",
    "        plt.ylabel('True')\n",
    "        plt.show()\n",
    "        \n",
    "\n",
    "def train(model, train_loader, optimizer, num_epochs=20):\n",
    "    device = torch.device('cuda' if torch.cuda.is_available() else 'cpu')\n",
    "    for epoch in range(num_epochs):\n",
    "        model.train()\n",
    "        for i, (x, y) in enumerate(train_loader):\n",
    "            x, y = x.to(device), y.to(device)\n",
    "            optimizer.zero_grad()\n",
    "            outputs = model(x)\n",
    "            loss = nn.CrossEntropyLoss()(outputs, y)\n",
    "            loss.backward()\n",
    "            optimizer.step()\n",
    "        print(f'\\nEpoch {epoch}, Loss: {loss.item():.4f}')\n",
    "    print('\\nFinished Training')\n",
    "\n",
    "\n",
    "for i in range(10):\n",
    "\n",
    "    model = TSTRClassifier()\n",
    "        \n",
    "    lr = 1e-4\n",
    "    optimizer = optim.Adam(model.parameters(), lr=lr)\n",
    "\n",
    "    train(model, train_loader, optimizer, num_epochs=20)\n",
    "\n",
    "    test(model, x_test, y_test)"
   ]
  }
 ],
 "metadata": {
  "kernelspec": {
   "display_name": "stargan-v2",
   "language": "python",
   "name": "python3"
  },
  "language_info": {
   "codemirror_mode": {
    "name": "ipython",
    "version": 3
   },
   "file_extension": ".py",
   "mimetype": "text/x-python",
   "name": "python",
   "nbconvert_exporter": "python",
   "pygments_lexer": "ipython3",
   "version": "3.6.13"
  }
 },
 "nbformat": 4,
 "nbformat_minor": 2
}
