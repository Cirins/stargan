{
 "cells": [
  {
   "cell_type": "code",
   "execution_count": null,
   "metadata": {},
   "outputs": [
    {
     "name": "stdout",
     "output_type": "stream",
     "text": [
      "All required files are present.\n"
     ]
    }
   ],
   "source": [
    "import os\n",
    "\n",
    "# Define datasets, experiment names, and expected filenames\n",
    "datasets = [\"realworld_mobiact\"]\n",
    "experiment_names = [\"Df\", \"Syn\", \"Df_Syn\", \"FS_Dpfs\", \"FS_Df_Dpfs\", \"FS_Syn\", \"FS_Df_Syn\", \"FS_Syn_Dpfs\", \"FS_Df_Syn_Dpfs\", \"FS_Df_plus_Dpfs\", \"FS_Df_plus_Syn\", \"Dp\"]\n",
    "experiment_names = [\"Df\", \"Df_aug\", \"Df_rot\", \"Syn\", \"Syn_aug\", \"Df_Syn\", \"Dp\"]\n",
    "required_files = [f\"{dataset}_{experiment}.csv\" for dataset in datasets for experiment in experiment_names]\n",
    "\n",
    "# Directory containing the result files\n",
    "results_dir = \"results\"\n",
    "\n",
    "# Check for missing files\n",
    "missing_files = [file for file in required_files if not os.path.isfile(os.path.join(results_dir, file))]\n",
    "\n",
    "# Print results\n",
    "if missing_files:\n",
    "    print(\"The following files are missing:\")\n",
    "    for file in missing_files:\n",
    "        print(file)\n",
    "else:\n",
    "    print(\"All required files are present.\")\n"
   ]
  },
  {
   "cell_type": "code",
   "execution_count": 2,
   "metadata": {},
   "outputs": [
    {
     "name": "stdout",
     "output_type": "stream",
     "text": [
      "           Df  Df_aug  Df_rot     Syn  Syn_aug  Df_Syn      Dp\n",
      "source                                                        \n",
      "WAL     0.479  0.7479  0.6676  0.7629     0.72  0.7316  0.9058\n",
      "\n",
      "            Df  Df_aug  Df_rot     Syn  Syn_aug  Df_Syn      Dp\n",
      "source                                                         \n",
      "WAL     8.1647  1.2184  2.9432  1.5187   1.8006  1.8611  0.2567\n",
      "\n",
      "            Df  Df_aug  Df_rot     Syn  Syn_aug  Df_Syn      Dp\n",
      "source                                                         \n",
      "WAL     0.4173  0.7291  0.6564  0.7283   0.6359  0.7119  0.8911\n"
     ]
    }
   ],
   "source": [
    "import os\n",
    "import pandas as pd\n",
    "\n",
    "def create_summary_csv(dataset, results_dir=\"results\"):\n",
    "    \n",
    "    # Dictionary to store data for each source across experiments and modes\n",
    "    data_acc = {}\n",
    "    data_loss = {}\n",
    "    data_f1 = {}\n",
    "    \n",
    "    for experiment in experiment_names:\n",
    "        file_path = os.path.join(results_dir, f\"{dataset}_{experiment}.csv\")\n",
    "        if os.path.isfile(file_path):\n",
    "            # Read the file and extract source, mode, and accuracy columns\n",
    "            df = pd.read_csv(file_path)\n",
    "            # Group by 'source', then compute the average accuracy for each combination\n",
    "            avg_accuracy = df.groupby(['source'])['accuracy'].mean()\n",
    "            avg_loss = df.groupby(['source'])['loss'].mean()\n",
    "            avg_f1 = df.groupby(['source'])['f1'].mean()\n",
    "            # Store results in dictionary\n",
    "            data_acc[experiment] = round(avg_accuracy, 4)\n",
    "            data_loss[experiment] = round(avg_loss, 4)\n",
    "            data_f1[experiment] = round(avg_f1, 4)\n",
    "        else:\n",
    "            print(f\"Warning: {file_path} does not exist and will be skipped.\")\n",
    "    \n",
    "    # Combine all data into a single DataFrame\n",
    "    summary_acc = pd.concat(data_acc.values(), axis=1, keys=data_acc.keys())\n",
    "    summary_loss = pd.concat(data_loss.values(), axis=1, keys=data_loss.keys())\n",
    "    summary_f1 = pd.concat(data_f1.values(), axis=1, keys=data_f1.keys())\n",
    "    \n",
    "    # # Save the result to a new CSV file\n",
    "    # output_file = os.path.join(results_dir, f\"{dataset}_results.csv\")\n",
    "    # summary_df.to_csv(output_file)\n",
    "    # print(f\"Summary CSV file saved as: {output_file}\")\n",
    "\n",
    "    print(summary_acc)\n",
    "    print()\n",
    "    print(summary_loss)\n",
    "    print()\n",
    "    print(summary_f1)\n",
    "\n",
    "# Usage example\n",
    "create_summary_csv(\"realworld_mobiact\")\n"
   ]
  },
  {
   "cell_type": "code",
   "execution_count": 3,
   "metadata": {},
   "outputs": [
    {
     "data": {
      "image/png": "[encoded data removed]",
      "text/plain": [
       "<Figure size 720x432 with 1 Axes>"
      ]
     },
     "metadata": {
      "needs_background": "light"
     },
     "output_type": "display_data"
    },
    {
     "name": "stdout",
     "output_type": "stream",
     "text": [
      "Worst n domains with their accuracies:\n",
      "domain\n",
      "38    0.340426\n",
      "54    0.380952\n",
      "61    0.425532\n",
      "39    0.481481\n",
      "26    0.571429\n",
      "34    0.571429\n",
      "41    0.577778\n",
      "17    0.584906\n",
      "60    0.595745\n",
      "42    0.608696\n",
      "Name: accuracy, dtype: float64\n"
     ]
    }
   ],
   "source": [
    "import pandas as pd\n",
    "import matplotlib.pyplot as plt\n",
    "\n",
    "# Read the CSV file\n",
    "file_path = 'results/realworld_mobiact_Syn.csv'\n",
    "data = pd.read_csv(file_path)\n",
    "\n",
    "# Group by 'domain' and calculate mean accuracy\n",
    "domain_accuracies = data.groupby('domain')['accuracy'].mean()\n",
    "\n",
    "# Plot the accuracies\n",
    "plt.figure(figsize=(10, 6))\n",
    "domain_accuracies.plot(kind='bar')\n",
    "plt.xlabel('Domain')\n",
    "plt.ylabel('Mean Accuracy')\n",
    "plt.title('Mean Accuracy by Domain')\n",
    "plt.show()\n",
    "\n",
    "# Get the worst n domains with their accuracies\n",
    "worst_n_domains = domain_accuracies.nsmallest(10)\n",
    "print(\"Worst n domains with their accuracies:\")\n",
    "print(worst_n_domains)"
   ]
  },
  {
   "cell_type": "code",
   "execution_count": 4,
   "metadata": {},
   "outputs": [
    {
     "data": {
      "image/png": "[encoded data removed]",
      "text/plain": [
       "<Figure size 720x432 with 1 Axes>"
      ]
     },
     "metadata": {
      "needs_background": "light"
     },
     "output_type": "display_data"
    },
    {
     "name": "stdout",
     "output_type": "stream",
     "text": [
      "Worst n domains with their accuracies:\n",
      "domain\n",
      "66    0.259524\n",
      "69    0.273810\n",
      "65    0.314000\n",
      "15    0.326000\n",
      "73    0.343902\n",
      "41    0.346667\n",
      "39    0.372222\n",
      "60    0.372340\n",
      "61    0.404255\n",
      "26    0.409524\n",
      "Name: accuracy, dtype: float64\n"
     ]
    }
   ],
   "source": [
    "import pandas as pd\n",
    "import matplotlib.pyplot as plt\n",
    "\n",
    "# Read the CSV file\n",
    "file_path = 'results/realworld_mobiact_Df.csv'\n",
    "data = pd.read_csv(file_path)\n",
    "\n",
    "# Group by 'domain' and calculate mean accuracy\n",
    "domain_accuracies = data.groupby('domain')['accuracy'].mean()\n",
    "\n",
    "# Plot the accuracies\n",
    "plt.figure(figsize=(10, 6))\n",
    "domain_accuracies.plot(kind='bar')\n",
    "plt.xlabel('Domain')\n",
    "plt.ylabel('Mean Accuracy')\n",
    "plt.title('Mean Accuracy by Domain')\n",
    "plt.show()\n",
    "\n",
    "# Get the worst n domains with their accuracies\n",
    "worst_n_domains = domain_accuracies.nsmallest(10)\n",
    "print(\"Worst n domains with their accuracies:\")\n",
    "print(worst_n_domains)"
   ]
  },
  {
   "cell_type": "code",
   "execution_count": 5,
   "metadata": {},
   "outputs": [
    {
     "data": {
      "image/png": "[encoded data removed]",
      "text/plain": [
       "<Figure size 720x432 with 1 Axes>"
      ]
     },
     "metadata": {
      "needs_background": "light"
     },
     "output_type": "display_data"
    },
    {
     "name": "stdout",
     "output_type": "stream",
     "text": [
      "Worst n domains with their accuracies:\n",
      "domain\n",
      "17    0.547170\n",
      "68    0.551163\n",
      "29    0.554762\n",
      "36    0.576744\n",
      "19    0.577778\n",
      "72    0.590476\n",
      "39    0.596296\n",
      "41    0.608889\n",
      "55    0.610204\n",
      "18    0.614815\n",
      "Name: accuracy, dtype: float64\n"
     ]
    }
   ],
   "source": [
    "import pandas as pd\n",
    "import matplotlib.pyplot as plt\n",
    "\n",
    "# Read the CSV file\n",
    "file_path = 'results/realworld_mobiact_Df_aug.csv'\n",
    "data = pd.read_csv(file_path)\n",
    "\n",
    "# Group by 'domain' and calculate mean accuracy\n",
    "domain_accuracies = data.groupby('domain')['accuracy'].mean()\n",
    "\n",
    "# Plot the accuracies\n",
    "plt.figure(figsize=(10, 6))\n",
    "domain_accuracies.plot(kind='bar')\n",
    "plt.xlabel('Domain')\n",
    "plt.ylabel('Mean Accuracy')\n",
    "plt.title('Mean Accuracy by Domain')\n",
    "plt.show()\n",
    "\n",
    "# Get the worst n domains with their accuracies\n",
    "worst_n_domains = domain_accuracies.nsmallest(10)\n",
    "print(\"Worst n domains with their accuracies:\")\n",
    "print(worst_n_domains)"
   ]
  }
 ],
 "metadata": {
  "kernelspec": {
   "display_name": "stargan-v2",
   "language": "python",
   "name": "python3"
  },
  "language_info": {
   "codemirror_mode": {
    "name": "ipython",
    "version": 3
   },
   "file_extension": ".py",
   "mimetype": "text/x-python",
   "name": "python",
   "nbconvert_exporter": "python",
   "pygments_lexer": "ipython3",
   "version": "3.6.13"
  }
 },
 "nbformat": 4,
 "nbformat_minor": 2
}
